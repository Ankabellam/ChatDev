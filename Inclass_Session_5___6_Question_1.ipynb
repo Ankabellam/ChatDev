{
  "cells": [
    {
      "cell_type": "markdown",
      "metadata": {
        "id": "view-in-github",
        "colab_type": "text"
      },
      "source": [
        "<a href=\"https://colab.research.google.com/github/Ankabellam/ChatDev/blob/main/Inclass_Session_5___6_Question_1.ipynb\" target=\"_parent\"><img src=\"https://colab.research.google.com/assets/colab-badge.svg\" alt=\"Open In Colab\"/></a>"
      ]
    },
    {
      "cell_type": "markdown",
      "metadata": {
        "id": "cyAcsWnn0pO6"
      },
      "source": [
        "<table align=\"center\" width=100%>\n",
        "    <tr>\n",
        "        <td width=\"10%\">\n",
        "            <img src=\"in_class.png\">\n",
        "        </td>\n",
        "        <td>\n",
        "            <div align=\"center\">\n",
        "                <font color=\"#21618C\" size=8px>\n",
        "                    <b> Inclass-Lab  <br>(Session 5 & 6)\n",
        "                    </b>\n",
        "                </font>\n",
        "            </div>\n",
        "        </td>\n",
        "    </tr>\n",
        "</table>"
      ]
    },
    {
      "cell_type": "markdown",
      "metadata": {
        "id": "DsTEEqXV0pO7"
      },
      "source": [
        "## Table of Content\n",
        "1. **[Reshape](#Reshape)**\n",
        "2. **[Pivot Table](#Pivoting)**\n",
        "3. **[Duplicate](#Duplicating)**\n",
        "4. **[Replace](#Replacing)**\n",
        "5. **[Index](#Indexing)**\n",
        "6. **[Summary Statistics](#Summary_Statistics)**\n",
        "7. **[Merge, Join, Concatenate](#merge)**\n",
        "8. **[Plots using Library Matplotlib ](#matplotlib)**\n",
        "9. **[Plots using Library Seaborn ](#seaborn)**\n",
        "10. **[Plots using Library Plotly](#plotly)**"
      ]
    },
    {
      "cell_type": "markdown",
      "metadata": {
        "id": "qd7TAD6J0pO8"
      },
      "source": [
        "**Let us import the required library**"
      ]
    },
    {
      "cell_type": "code",
      "execution_count": 1,
      "metadata": {
        "id": "1K46Tn2L0pO8"
      },
      "outputs": [],
      "source": [
        "# import libraries\n",
        "import pandas as pd\n",
        "import numpy as np"
      ]
    },
    {
      "cell_type": "markdown",
      "metadata": {
        "id": "ZSJ9UCj10pO8"
      },
      "source": [
        "### Let's begin with some hands-on practice exercises"
      ]
    },
    {
      "cell_type": "markdown",
      "metadata": {
        "id": "T6rFVQRu0pO9"
      },
      "source": [
        "<a id='Reshape'></a>\n",
        "## 1. Reshape"
      ]
    },
    {
      "cell_type": "markdown",
      "metadata": {
        "id": "oYJDHB7U0pO9"
      },
      "source": [
        "<table align=\"left\" width=100%>\n",
        "    <tr>\n",
        "        <td width=\"6%\">\n",
        "            <img src=\"question_icon.png\">\n",
        "        </td>\n",
        "        <td>\n",
        "            <div align=\"left\">\n",
        "                <font color=\"#21618C\" size=4px>\n",
        "                    <b> 1. Write a program to reshape the given dataframe using the melt function, considering 'Day' as the identifier variable\n",
        "                    </b>\n",
        "                </font>\n",
        "            </div>\n",
        "        </td>\n",
        "    </tr>\n",
        "</table>"
      ]
    },
    {
      "cell_type": "markdown",
      "metadata": {
        "id": "z0gWM5XT0pO9"
      },
      "source": [
        "**Use the dataframe given below:**\n",
        "   \n",
        "<table>\n",
        "<tr>\n",
        "<th>Day</th>\n",
        "<th>ICICI</th>\n",
        "<th>HDFC</th>\n",
        "</tr>\n",
        "<tr>\n",
        "<td>MON</td>\n",
        "<td>1129</td>\n",
        "<td>191</td>\n",
        "</tr>\n",
        "<tr>\n",
        "<td>TUES</td>\n",
        "<td>1132</td>\n",
        "<td>192</td>\n",
        "</tr>\n",
        "<tr>\n",
        "<td>WED</td>\n",
        "<td>1134</td>\n",
        "<td>190</td>\n",
        "</tr>\n",
        "<tr>\n",
        "<td>THU</td>\n",
        "<td>1152</td>\n",
        "<td>190</td>\n",
        "</tr>\n",
        "<tr>\n",
        "<td>FRI</td>\n",
        "<td>1152</td>\n",
        "<td>188</td>\n",
        "</tr>\n",
        "   \n",
        "</table>"
      ]
    },
    {
      "cell_type": "code",
      "execution_count": 2,
      "metadata": {
        "colab": {
          "base_uri": "https://localhost:8080/"
        },
        "id": "e9wQGhhX0pO9",
        "outputId": "d2282cff-d654-4825-9d67-45c9af72d3c5"
      },
      "outputs": [
        {
          "output_type": "stream",
          "name": "stdout",
          "text": [
            "    Day   Bank  Price\n",
            "0   MON  ICICI   1129\n",
            "1  TUES  ICICI   1132\n",
            "2   WED  ICICI   1134\n",
            "3   THU  ICICI   1152\n",
            "4   FRI  ICICI   1152\n",
            "5   MON   HDFC    191\n",
            "6  TUES   HDFC    192\n",
            "7   WED   HDFC    190\n",
            "8   THU   HDFC    190\n",
            "9   FRI   HDFC    188\n"
          ]
        }
      ],
      "source": [
        "# type your code here\n",
        "data = {\n",
        "    \"Day\": [\"MON\", \"TUES\", \"WED\", \"THU\", \"FRI\"],\n",
        "    \"ICICI\": [1129, 1132, 1134, 1152, 1152],\n",
        "    \"HDFC\": [191, 192, 190, 190, 188],\n",
        "}\n",
        "\n",
        "# Create a DataFrame\n",
        "df = pd.DataFrame(data)\n",
        "\n",
        "# Melt the DataFrame with 'Day' as the identifier variable\n",
        "melted_df = df.melt(id_vars=\"Day\", var_name=\"Bank\", value_name=\"Price\")\n",
        "\n",
        "# Print the melted DataFrame\n",
        "print(melted_df)\n"
      ]
    },
    {
      "cell_type": "markdown",
      "metadata": {
        "id": "mTpUYKI50pO9"
      },
      "source": [
        "<a id='Pivoting'></a>\n",
        "## 2. Pivot Table"
      ]
    },
    {
      "cell_type": "markdown",
      "metadata": {
        "id": "s6n4dDzM0pO9"
      },
      "source": [
        "<table align=\"left\" width=100%>\n",
        "    <tr>\n",
        "        <td width=\"6%\">\n",
        "            <img src=\"question_icon.png\">\n",
        "        </td>\n",
        "        <td>\n",
        "            <div align=\"left\">\n",
        "                <font color=\"#21618C\" size=4px>\n",
        "                    <b> 2. Find the average sales for each store\n",
        "                    </b>\n",
        "                </font>\n",
        "            </div>\n",
        "        </td>\n",
        "    </tr>\n",
        "</table>"
      ]
    },
    {
      "cell_type": "markdown",
      "metadata": {
        "id": "G7Mngpyv0pO9"
      },
      "source": [
        "**Use the dataframe given below:**\n",
        "   \n",
        "<table>\n",
        "<tr>\n",
        "<th>Store</th>\n",
        "<th>Location</th>\n",
        "<th>Sales</th>\n",
        "</tr>\n",
        "<tr>\n",
        "<td>A</td>\n",
        "<td>Mumbai</td>\n",
        "<td>40000</td>\n",
        "</tr>\n",
        "<tr>\n",
        "<td>B</td>\n",
        "<td>Pune</td>\n",
        "<td>45000</td>\n",
        "</tr>\n",
        "<tr>\n",
        "<td>A</td>\n",
        "<td>Hyderabad</td>\n",
        "<td>50000</td>\n",
        "</tr>\n",
        "<tr>\n",
        "<td>C</td>\n",
        "<td>Mumbai</td>\n",
        "<td>90000</td>\n",
        "</tr>\n",
        "<tr>\n",
        "<td>D</td>\n",
        "<td>Pune</td>\n",
        "<td>89000</td>\n",
        "</tr>\n",
        "<tr>\n",
        "<td>A</td>\n",
        "<td>Delhi</td>\n",
        "<td>87000</td>\n",
        "</tr>\n",
        "<tr>\n",
        "<td>D</td>\n",
        "<td>Hyderabad</td>\n",
        "<td>85000</td>\n",
        "</tr>\n",
        "<tr>\n",
        "<td>A</td>\n",
        "<td>Pune</td>\n",
        "<td>78000</td>\n",
        "</tr>\n",
        "<tr>\n",
        "<td>C</td>\n",
        "<td>Mumbai</td>\n",
        "<td>89000</td>\n",
        "</tr>\n",
        "<tr>\n",
        "<td>B</td>\n",
        "<td>Pune</td>\n",
        "<td>70000</td>\n",
        "</tr>\n",
        "   \n",
        "</table>"
      ]
    },
    {
      "cell_type": "code",
      "execution_count": 4,
      "metadata": {
        "colab": {
          "base_uri": "https://localhost:8080/"
        },
        "id": "3QIcxGpD0pO-",
        "outputId": "8ac48608-2128-4531-ece3-a804d9704a3d"
      },
      "outputs": [
        {
          "output_type": "stream",
          "name": "stdout",
          "text": [
            "Store\n",
            "A    63750.0\n",
            "B    57500.0\n",
            "C    89500.0\n",
            "D    87000.0\n",
            "Name: Sales, dtype: float64\n"
          ]
        }
      ],
      "source": [
        "# type your code here\n",
        "import pandas as pd\n",
        "\n",
        "# Creating the dataframe\n",
        "data = {\n",
        "    'Store': ['A', 'B', 'A', 'C', 'D', 'A', 'D', 'A', 'C', 'B'],\n",
        "    'Location': ['Mumbai', 'Pune', 'Hyderabad', 'Mumbai', 'Pune', 'Delhi', 'Hyderabad', 'Pune', 'Mumbai', 'Pune'],\n",
        "    'Sales': [40000, 45000, 50000, 90000, 89000, 87000, 85000, 78000, 89000, 70000]\n",
        "}\n",
        "\n",
        "df = pd.DataFrame(data)\n",
        "#print(df)\n",
        "average_sales_per_store = df.groupby('Store')['Sales'].mean()\n",
        "print(average_sales_per_store)"
      ]
    },
    {
      "cell_type": "markdown",
      "metadata": {
        "id": "bitpXYJG0pO-"
      },
      "source": [
        "<a id='Duplicating'></a>\n",
        "## 3. Duplicate"
      ]
    },
    {
      "cell_type": "markdown",
      "metadata": {
        "id": "XEpuinTd0pO-"
      },
      "source": [
        "<table align=\"left\" width=100%>\n",
        "    <tr>\n",
        "        <td width=\"6%\">\n",
        "            <img src=\"question_icon.png\">\n",
        "        </td>\n",
        "        <td>\n",
        "            <div align=\"left\">\n",
        "                <font color=\"#21618C\" size=4px>\n",
        "                    <b> 3. Select duplicate rows, except the last occurrence\n",
        "                    </b>\n",
        "                </font>\n",
        "            </div>\n",
        "        </td>\n",
        "    </tr>\n",
        "</table>"
      ]
    },
    {
      "cell_type": "markdown",
      "metadata": {
        "id": "PvODpnwf0pO-"
      },
      "source": [
        "**Use the dataframe given below:**\n",
        "   \n",
        "<table>\n",
        "<tr>\n",
        "<th>Name</th>\n",
        "<th>Salary</th>\n",
        "<th>City</th>\n",
        "</tr>\n",
        "<tr>\n",
        "<td>John</td>\n",
        "<td>3400</td>\n",
        "<td>Sydeny</td>\n",
        "</tr>\n",
        "<tr>\n",
        "<td>Robert</td>\n",
        "<td>3000</td>\n",
        "<td>Chicago</td>\n",
        "</tr>\n",
        "<tr>\n",
        "<td>Aadi</td>\n",
        "<td>1600</td>\n",
        "<td>New York</td>\n",
        "</tr>\n",
        "<tr>\n",
        "<td>Robert</td>\n",
        "<td>3000</td>\n",
        "<td>Chicago</td>\n",
        "</tr>\n",
        "<tr>\n",
        "<td>Robert</td>\n",
        "<td>3000</td>\n",
        "<td>Chicago</td>\n",
        "</tr>\n",
        "<tr>\n",
        "<td>Robert</td>\n",
        "<td>3000</td>\n",
        "<td>Texas</td>\n",
        "</tr>\n",
        "<tr>\n",
        "<td>Aadi</td>\n",
        "<td>4000</td>\n",
        "<td>London</td>\n",
        "</tr>\n",
        "<tr>\n",
        "<td>Sachine</td>\n",
        "<td>3000</td>\n",
        "<td>Chicago</td>\n",
        "</tr>\n",
        "   \n",
        "</table>"
      ]
    },
    {
      "cell_type": "code",
      "execution_count": null,
      "metadata": {
        "id": "DyEK9tNo0pO-"
      },
      "outputs": [],
      "source": [
        "# type your code here"
      ]
    },
    {
      "cell_type": "markdown",
      "metadata": {
        "id": "20rqOvrs0pO_"
      },
      "source": [
        "<table align=\"left\" width=100%>\n",
        "    <tr>\n",
        "        <td width=\"6%\">\n",
        "            <img src=\"question_icon.png\">\n",
        "        </td>\n",
        "        <td>\n",
        "            <div align=\"left\">\n",
        "                <font color=\"#21618C\" size=4px>\n",
        "                    <b> 4.  Select the duplicated rows based on the column names 'Salary' and 'City'\n",
        "                    </b>\n",
        "                </font>\n",
        "            </div>\n",
        "        </td>\n",
        "    </tr>\n",
        "</table>"
      ]
    },
    {
      "cell_type": "markdown",
      "metadata": {
        "id": "dsdmt3Ht0pO_"
      },
      "source": [
        "**Use the dataframe given below:**\n",
        "   \n",
        "<table>\n",
        "<tr>\n",
        "<th>Name</th>\n",
        "<th>Salary</th>\n",
        "<th>City</th>\n",
        "</tr>\n",
        "<tr>\n",
        "<td>John</td>\n",
        "<td>3400</td>\n",
        "<td>Sydeny</td>\n",
        "</tr>\n",
        "<tr>\n",
        "<td>Robert</td>\n",
        "<td>3000</td>\n",
        "<td>Chicago</td>\n",
        "</tr>\n",
        "<tr>\n",
        "<td>Aadi</td>\n",
        "<td>1600</td>\n",
        "<td>New York</td>\n",
        "</tr>\n",
        "<tr>\n",
        "<td>Robert</td>\n",
        "<td>3000</td>\n",
        "<td>Chicago</td>\n",
        "</tr>\n",
        "<tr>\n",
        "<td>Robert</td>\n",
        "<td>3000</td>\n",
        "<td>Chicago</td>\n",
        "</tr>\n",
        "<tr>\n",
        "<td>Robert</td>\n",
        "<td>3000</td>\n",
        "<td>Texas</td>\n",
        "</tr>\n",
        "<tr>\n",
        "<td>Aadi</td>\n",
        "<td>4000</td>\n",
        "<td>London</td>\n",
        "</tr>\n",
        "<tr>\n",
        "<td>Sachine</td>\n",
        "<td>3000</td>\n",
        "<td>Chicago</td>\n",
        "</tr>\n",
        "   \n",
        "</table>"
      ]
    },
    {
      "cell_type": "code",
      "execution_count": 5,
      "metadata": {
        "colab": {
          "base_uri": "https://localhost:8080/"
        },
        "id": "Ocojn0Fg0pO_",
        "outputId": "7533811c-9de5-4848-caf3-80767ceec09b"
      },
      "outputs": [
        {
          "output_type": "stream",
          "name": "stdout",
          "text": [
            "      Name  Salary      City\n",
            "0     John    3400    Sydeny\n",
            "2     Aadi    1600  New York\n",
            "4   Robert    3000   Chicago\n",
            "5   Robert    3000     Texas\n",
            "6     Aadi    4000    London\n",
            "7  Sachine    3000   Chicago\n"
          ]
        }
      ],
      "source": [
        "# type your code here\n",
        "import pandas as pd\n",
        "\n",
        "# Create the DataFrame\n",
        "data = {\n",
        "    'Name': ['John', 'Robert', 'Aadi', 'Robert', 'Robert', 'Robert', 'Aadi', 'Sachine'],\n",
        "    'Salary': [3400, 3000, 1600, 3000, 3000, 3000, 4000, 3000],\n",
        "    'City': ['Sydeny', 'Chicago', 'New York', 'Chicago', 'Chicago', 'Texas', 'London', 'Chicago']\n",
        "}\n",
        "df = pd.DataFrame(data)\n",
        "\n",
        "# Mark duplicate rows except the last occurrence\n",
        "mask = df.duplicated(keep='last')\n",
        "\n",
        "# Filter the DataFrame\n",
        "result = df[~mask]\n",
        "print(result)"
      ]
    },
    {
      "cell_type": "markdown",
      "metadata": {
        "id": "d-SMCdFB0pO_"
      },
      "source": [
        "<a id='Replacing'></a>\n",
        "## 4. Replace"
      ]
    },
    {
      "cell_type": "markdown",
      "metadata": {
        "id": "jM0ybJDq0pO_"
      },
      "source": [
        "<table align=\"left\" width=100%>\n",
        "    <tr>\n",
        "        <td width=\"6%\">\n",
        "            <img src=\"question_icon.png\">\n",
        "        </td>\n",
        "        <td>\n",
        "            <div align=\"left\">\n",
        "                <font color=\"#21618C\" size=4px>\n",
        "                    <b> 5.  Replace all 0's with male and all 1's with female in the gender column\n",
        "                    </b>\n",
        "                </font>\n",
        "            </div>\n",
        "        </td>\n",
        "    </tr>\n",
        "</table>"
      ]
    },
    {
      "cell_type": "markdown",
      "metadata": {
        "id": "Saxl-Q5A0pO_"
      },
      "source": [
        "**Use the dataframe given below:**\n",
        "   \n",
        "<table>\n",
        "<tr>\n",
        "<th>Name</th>\n",
        "<th>Num_Children</th>\n",
        "<th>Gender</th>\n",
        "</tr>\n",
        "<tr>\n",
        "<td>John</td>\n",
        "<td>0</td>\n",
        "<td>0</td>\n",
        "</tr>\n",
        "<tr>\n",
        "<td>Robert</td>\n",
        "<td>4</td>\n",
        "<td>0</td>\n",
        "</tr>\n",
        "<tr>\n",
        "<td>Johny</td>\n",
        "<td>5</td>\n",
        "<td>0</td>\n",
        "</tr>\n",
        "<tr>\n",
        "<td>Mia</td>\n",
        "<td>3</td>\n",
        "<td>1</td>\n",
        "</tr>\n",
        "   \n",
        "</table>"
      ]
    },
    {
      "cell_type": "code",
      "execution_count": 6,
      "metadata": {
        "colab": {
          "base_uri": "https://localhost:8080/"
        },
        "id": "-JnFxpvw0pO_",
        "outputId": "5c667238-8b51-405d-8157-a0f78945f840"
      },
      "outputs": [
        {
          "output_type": "stream",
          "name": "stdout",
          "text": [
            "     Name  Num_Children  Gender\n",
            "0    John             0    male\n",
            "1  Robert             4    male\n",
            "2   Johny             5    male\n",
            "3     Mia             3  female\n"
          ]
        }
      ],
      "source": [
        "# type your code here\n",
        "# Create the DataFrame\n",
        "data = {\n",
        "    'Name': ['John', 'Robert', 'Johny', 'Mia'],\n",
        "    'Num_Children': [0, 4, 5, 3],\n",
        "    'Gender': [0, 0, 0, 1]\n",
        "}\n",
        "df = pd.DataFrame(data)\n",
        "\n",
        "# Replace 0's with \"male\" and 1's with \"female\" in the Gender column\n",
        "df['Gender'] = df['Gender'].replace({0: 'male', 1: 'female'})\n",
        "\n",
        "print(df)"
      ]
    },
    {
      "cell_type": "markdown",
      "metadata": {
        "id": "oZzyi-7Q0pPA"
      },
      "source": [
        "<a id='Indexing'></a>\n",
        "## 5. Index"
      ]
    },
    {
      "cell_type": "markdown",
      "metadata": {
        "id": "uUMGja_z0pPA"
      },
      "source": [
        "<table align=\"left\" width=100%>\n",
        "    <tr>\n",
        "        <td width=\"6%\">\n",
        "            <img src=\"question_icon.png\">\n",
        "        </td>\n",
        "        <td>\n",
        "            <div align=\"left\">\n",
        "                <font color=\"#21618C\" size=4px>\n",
        "                    <b> 6.  Set 'Name' and 'City' columns as indices for the below dataframe\n",
        "                    </b>\n",
        "                </font>\n",
        "            </div>\n",
        "        </td>\n",
        "    </tr>\n",
        "</table>"
      ]
    },
    {
      "cell_type": "markdown",
      "metadata": {
        "id": "zaVaRqyY0pPA"
      },
      "source": [
        "**Use the dataframe given below:**\n",
        "   \n",
        "<table>\n",
        "<tr>\n",
        "<th>Name</th>\n",
        "<th>City</th>\n",
        "<th>Sales</th>\n",
        "<th>Expenses</th>\n",
        "</tr>\n",
        "<tr>\n",
        "<td>John</td>\n",
        "<td>New York</td>\n",
        "<td>60000</td>\n",
        "<td>12000</td>\n",
        "</tr>\n",
        "<tr>\n",
        "<td>Robert</td>\n",
        "<td>Chicago</td>\n",
        "<td>42000</td>\n",
        "<td>33000</td>\n",
        "</tr>\n",
        "<tr>\n",
        "<td>Jony</td>\n",
        "<td>Texas</td>\n",
        "<td>50000</td>\n",
        "<td>40000</td>\n",
        "</tr>\n",
        "<tr>\n",
        "<td>Mia</td>\n",
        "<td>California</td>\n",
        "<td>24000</td>\n",
        "<td>34000</td>\n",
        "</tr>\n",
        "<tr>\n",
        "<td>Edward</td>\n",
        "<td>Sydney</td>\n",
        "<td>12000</td>\n",
        "<td>28000</td>\n",
        "</tr>\n",
        "<tr>\n",
        "<td>Thomas</td>\n",
        "<td>New York</td>\n",
        "<td>82000</td>\n",
        "<td>19000</td>\n",
        "</tr>\n",
        "<tr>\n",
        "<td>Ethan</td>\n",
        "<td>Chicago</td>\n",
        "<td>59000</td>\n",
        "<td>32000</td>\n",
        "</tr>\n",
        "<tr>\n",
        "<td>Olivia</td>\n",
        "<td>Sydeney</td>\n",
        "<td>85000</td>\n",
        "<td>10000</td>\n",
        "</tr>\n",
        "<tr>\n",
        "<td>Arun</td>\n",
        "<td>California</td>\n",
        "<td>97000</td>\n",
        "<td>49000</td>\n",
        "</tr>\n",
        "<tr>\n",
        "<td>Ankita</td>\n",
        "<td>Texas</td>\n",
        "<td>35000</td>\n",
        "<td>34000</td>\n",
        "</tr>\n",
        "<tr>\n",
        "<td>Paulo</td>\n",
        "<td>Chicago</td>\n",
        "<td>47000</td>\n",
        "<td>55000</td>\n",
        "</tr>\n",
        "\n",
        "</table>"
      ]
    },
    {
      "cell_type": "code",
      "execution_count": 7,
      "metadata": {
        "colab": {
          "base_uri": "https://localhost:8080/"
        },
        "id": "n_XyurNO0pPA",
        "outputId": "94e64fae-5535-4d02-c022-2358147e31f0"
      },
      "outputs": [
        {
          "output_type": "stream",
          "name": "stdout",
          "text": [
            "                   Sales  Expenses\n",
            "Name   City                       \n",
            "John   New York    60000     12000\n",
            "Robert Chicago     42000     33000\n",
            "Jony   Texas       50000     40000\n",
            "Mia    California  24000     34000\n",
            "Edward Sydney      12000     28000\n",
            "Thomas New York    82000     19000\n",
            "Ethan  Chicago     59000     32000\n",
            "Olivia Sydney      85000     10000\n",
            "Arun   California  97000     49000\n",
            "Ankita Texas       35000     34000\n",
            "Paulo  Chicago     47000     55000\n"
          ]
        }
      ],
      "source": [
        "# type your code here\n",
        "\n",
        "# Create the DataFrame\n",
        "data = {\n",
        "    'Name': ['John', 'Robert', 'Jony', 'Mia', 'Edward', 'Thomas', 'Ethan', 'Olivia', 'Arun', 'Ankita', 'Paulo'],\n",
        "    'City': ['New York', 'Chicago', 'Texas', 'California', 'Sydney', 'New York', 'Chicago', 'Sydney', 'California', 'Texas', 'Chicago'],\n",
        "    'Sales': [60000, 42000, 50000, 24000, 12000, 82000, 59000, 85000, 97000, 35000, 47000],\n",
        "    'Expenses': [12000, 33000, 40000, 34000, 28000, 19000, 32000, 10000, 49000, 34000, 55000]\n",
        "}\n",
        "df = pd.DataFrame(data)\n",
        "\n",
        "# Set 'Name' and 'City' columns as indices\n",
        "df.set_index(['Name', 'City'], inplace=True)\n",
        "\n",
        "print(df)"
      ]
    },
    {
      "cell_type": "markdown",
      "metadata": {
        "id": "h9BjSYH_0pPA"
      },
      "source": [
        "<a id='Summary_Statistics'></a>\n",
        "## 6. Summary Statistics"
      ]
    },
    {
      "cell_type": "markdown",
      "metadata": {
        "id": "aAW6n6Q80pPA"
      },
      "source": [
        "<table align=\"left\" width=100%>\n",
        "    <tr>\n",
        "        <td width=\"6%\">\n",
        "            <img src=\"question_icon.png\">\n",
        "        </td>\n",
        "        <td>\n",
        "            <div align=\"left\">\n",
        "                <font color=\"#21618C\" size=4px>\n",
        "                    <b> 7.  Find the descriptive statistics for the sales column of the given dataframe\n",
        "                    </b>\n",
        "                </font>\n",
        "            </div>\n",
        "        </td>\n",
        "    </tr>\n",
        "</table>"
      ]
    },
    {
      "cell_type": "markdown",
      "metadata": {
        "id": "qnI-faZl0pPA"
      },
      "source": [
        "**Use the dataframe given below:**\n",
        "   \n",
        "<table>\n",
        "<tr>\n",
        "<th>Month</th>\n",
        "<th>Sales</th>\n",
        "<th>Seasons</th>\n",
        "</tr>\n",
        "<tr>\n",
        "<td>Jan</td>\n",
        "<td>22000</td>\n",
        "<td>Winter</td>\n",
        "</tr>\n",
        "<tr>\n",
        "<td>Feb</td>\n",
        "<td>27000</td>\n",
        "<td>Winter</td>\n",
        "</tr>\n",
        "<tr>\n",
        "<td>Mar</td>\n",
        "<td>25000</td>\n",
        "<td>Spring</td>\n",
        "</tr>\n",
        "<tr>\n",
        "<td>Apr</td>\n",
        "<td>29000</td>\n",
        "<td>Spring</td>\n",
        "</tr>\n",
        "<tr>\n",
        "<td>May</td>\n",
        "<td>35000</td>\n",
        "<td>Spring</td>\n",
        "</tr>\n",
        "<tr>\n",
        "<td>June</td>\n",
        "<td>67000</td>\n",
        "<td>Summer</td>\n",
        "</tr>\n",
        "<tr>\n",
        "<td>July</td>\n",
        "<td>78000</td>\n",
        "<td>Summer</td>\n",
        "</tr>\n",
        "<tr>\n",
        "<td>Aug</td>\n",
        "<td>67000</td>\n",
        "<td>Summer</td>\n",
        "</tr>\n",
        "<tr>\n",
        "<td>Sep</td>\n",
        "<td>56000</td>\n",
        "<td>Fall</td>\n",
        "</tr>\n",
        "<tr>\n",
        "<td>Oct</td>\n",
        "<td>56000</td>\n",
        "<td>Fall</td>\n",
        "</tr>\n",
        "<tr>\n",
        "<td>Nov</td>\n",
        "<td>56000</td>\n",
        "<td>Fall</td>\n",
        "</tr>\n",
        "<tr>\n",
        "<td>Dec</td>\n",
        "<td>60000</td>\n",
        "<td>Winter</td>\n",
        "</tr>\n",
        "\n",
        "</table>"
      ]
    },
    {
      "cell_type": "code",
      "execution_count": 8,
      "metadata": {
        "colab": {
          "base_uri": "https://localhost:8080/"
        },
        "id": "5Rjrr6qB0pPA",
        "outputId": "e31aa4f0-6adf-4386-a6e2-873ebec966bb"
      },
      "outputs": [
        {
          "output_type": "stream",
          "name": "stdout",
          "text": [
            "count       12.000000\n",
            "mean     48166.666667\n",
            "std      19385.249000\n",
            "min      22000.000000\n",
            "25%      28500.000000\n",
            "50%      56000.000000\n",
            "75%      61750.000000\n",
            "max      78000.000000\n",
            "Name: Sales, dtype: float64\n"
          ]
        }
      ],
      "source": [
        "# type your code here\n",
        "# Create the DataFrame\n",
        "data = {\n",
        "    'Month': ['Jan', 'Feb', 'Mar', 'Apr', 'May', 'June', 'July', 'Aug', 'Sep', 'Oct', 'Nov', 'Dec'],\n",
        "    'Sales': [22000, 27000, 25000, 29000, 35000, 67000, 78000, 67000, 56000, 56000, 56000, 60000],\n",
        "    'Seasons': ['Winter', 'Winter', 'Spring', 'Spring', 'Spring', 'Summer', 'Summer', 'Summer', 'Fall', 'Fall', 'Fall', 'Winter']\n",
        "}\n",
        "df = pd.DataFrame(data)\n",
        "# Get descriptive statistics for the 'Sales' column\n",
        "sales_stats = df['Sales'].describe()\n",
        "print(sales_stats)"
      ]
    },
    {
      "cell_type": "markdown",
      "metadata": {
        "id": "zk8SE0bP0pPB"
      },
      "source": [
        "<table align=\"left\" width=100%>\n",
        "    <tr>\n",
        "        <td width=\"6%\">\n",
        "            <img src=\"question_icon.png\">\n",
        "        </td>\n",
        "        <td>\n",
        "            <div align=\"left\">\n",
        "                <font color=\"#21618C\" size=4px>\n",
        "                    <b> 8.  Find the median of sales for each season\n",
        "                    </b>\n",
        "                </font>\n",
        "            </div>\n",
        "        </td>\n",
        "    </tr>\n",
        "</table>"
      ]
    },
    {
      "cell_type": "markdown",
      "metadata": {
        "id": "3xwkXnXd0pPB"
      },
      "source": [
        "**Use the dataframe given below:**\n",
        "   \n",
        "<table>\n",
        "<tr>\n",
        "<th>Month</th>\n",
        "<th>Sales</th>\n",
        "<th>Seasons</th>\n",
        "</tr>\n",
        "<tr>\n",
        "<td>Jan</td>\n",
        "<td>22000</td>\n",
        "<td>Winter</td>\n",
        "</tr>\n",
        "<tr>\n",
        "<td>Feb</td>\n",
        "<td>27000</td>\n",
        "<td>Winter</td>\n",
        "</tr>\n",
        "<tr>\n",
        "<td>Mar</td>\n",
        "<td>25000</td>\n",
        "<td>Spring</td>\n",
        "</tr>\n",
        "<tr>\n",
        "<td>Apr</td>\n",
        "<td>29000</td>\n",
        "<td>Spring</td>\n",
        "</tr>\n",
        "<tr>\n",
        "<td>May</td>\n",
        "<td>35000</td>\n",
        "<td>Spring</td>\n",
        "</tr>\n",
        "<tr>\n",
        "<td>June</td>\n",
        "<td>67000</td>\n",
        "<td>Summer</td>\n",
        "</tr>\n",
        "<tr>\n",
        "<td>July</td>\n",
        "<td>78000</td>\n",
        "<td>Summer</td>\n",
        "</tr>\n",
        "<tr>\n",
        "<td>Aug</td>\n",
        "<td>67000</td>\n",
        "<td>Summer</td>\n",
        "</tr>\n",
        "<tr>\n",
        "<td>Sep</td>\n",
        "<td>56000</td>\n",
        "<td>Fall</td>\n",
        "</tr>\n",
        "<tr>\n",
        "<td>Oct</td>\n",
        "<td>56000</td>\n",
        "<td>Fall</td>\n",
        "</tr>\n",
        "<tr>\n",
        "<td>Nov</td>\n",
        "<td>56000</td>\n",
        "<td>Fall</td>\n",
        "</tr>\n",
        "<tr>\n",
        "<td>Dec</td>\n",
        "<td>60000</td>\n",
        "<td>Winter</td>\n",
        "</tr>\n",
        "\n",
        "</table>"
      ]
    },
    {
      "cell_type": "code",
      "execution_count": 9,
      "metadata": {
        "colab": {
          "base_uri": "https://localhost:8080/"
        },
        "id": "gA4nLN_A0pPB",
        "outputId": "475b8851-7099-4eb6-f8c9-9ec71fa54de8"
      },
      "outputs": [
        {
          "output_type": "stream",
          "name": "stdout",
          "text": [
            "Seasons\n",
            "Fall      56000.0\n",
            "Spring    29000.0\n",
            "Summer    67000.0\n",
            "Winter    27000.0\n",
            "Name: Sales, dtype: float64\n"
          ]
        }
      ],
      "source": [
        "# type your code here\n",
        "# Create the DataFrame\n",
        "data = {\n",
        "    'Month': ['Jan', 'Feb', 'Mar', 'Apr', 'May', 'June', 'July', 'Aug', 'Sep', 'Oct', 'Nov', 'Dec'],\n",
        "    'Sales': [22000, 27000, 25000, 29000, 35000, 67000, 78000, 67000, 56000, 56000, 56000, 60000],\n",
        "    'Seasons': ['Winter', 'Winter', 'Spring', 'Spring', 'Spring', 'Summer', 'Summer', 'Summer', 'Fall', 'Fall', 'Fall', 'Winter']\n",
        "}\n",
        "df = pd.DataFrame(data)\n",
        "\n",
        "# Find the median of sales for each season\n",
        "median_sales_season = df.groupby('Seasons')['Sales'].median()\n",
        "\n",
        "print(median_sales_season)"
      ]
    },
    {
      "cell_type": "markdown",
      "metadata": {
        "id": "zd8oam_x0pPB"
      },
      "source": [
        "<a id='merge'></a>\n",
        "## 7. Merge, Join, Concatenate"
      ]
    },
    {
      "cell_type": "markdown",
      "metadata": {
        "id": "sbBPZlX-0pPB"
      },
      "source": [
        "<table align=\"left\" width=100%>\n",
        "    <tr>\n",
        "        <td width=\"6%\">\n",
        "            <img src=\"question_icon.png\">\n",
        "        </td>\n",
        "        <td>\n",
        "            <div align=\"left\">\n",
        "                <font color=\"#21618C\" size=4px>\n",
        "                    <b> 9. Merge the given dataframes on the column 'Brand'\n",
        "                    </b>\n",
        "                </font>\n",
        "            </div>\n",
        "        </td>\n",
        "    </tr>\n",
        "</table>"
      ]
    },
    {
      "cell_type": "markdown",
      "metadata": {
        "id": "RmgpdI2i0pPB"
      },
      "source": [
        "**Use the dataframe given below:**\n",
        "   \n",
        "<table>\n",
        "<tr>\n",
        "<th>ID</th>\n",
        "<th>Brand</th>\n",
        "<th>Product</th>\n",
        "</tr>\n",
        "<tr>\n",
        "<td>101</td>\n",
        "<td>Apple</td>\n",
        "<td>iPhone</td>\n",
        "</tr>\n",
        "<tr>\n",
        "<td>102</td>\n",
        "<td>Canon</td>\n",
        "<td>DSLR</td>\n",
        "</tr>\n",
        "<tr>\n",
        "<td>103</td>\n",
        "<td>Samsung</td>\n",
        "<td>SmartPhone</td>\n",
        "</tr>\n",
        "<tr>\n",
        "<td>104</td>\n",
        "<td>Nikon</td>\n",
        "<td>DSLR</td>\n",
        "</tr>\n",
        "<td>105</td>\n",
        "<td>Sony</td>\n",
        "<td>SmartTV</td>\n",
        "</tr>\n",
        "   \n",
        "</table><br>\n",
        "\n",
        "<table>\n",
        "<tr>\n",
        "    <th>ID</th>\n",
        "<th>Brand</th>\n",
        "<th>Quantity_sold</th>\n",
        "</tr>\n",
        "<tr>\n",
        "    <td>101</td>\n",
        "<td>Apple</td>\n",
        "<td>234</td>\n",
        "</tr>\n",
        "<tr>\n",
        "    <td>102</td>\n",
        "<td>Canon</td>\n",
        "<td>344</td>\n",
        "</tr>\n",
        "<tr>\n",
        "    <td>104</td>\n",
        "<td>Samsung</td>\n",
        "<td>345</td>\n",
        "</tr>\n",
        "<tr>\n",
        "    <td>103</td>\n",
        "<td>Nikon</td>\n",
        "<td>262</td>\n",
        "</tr>\n",
        "    <td>105</td>\n",
        "<td>Sony</td>\n",
        "<td>356</td>\n",
        "</tr>\n",
        "</table>"
      ]
    },
    {
      "cell_type": "code",
      "execution_count": 15,
      "metadata": {
        "colab": {
          "base_uri": "https://localhost:8080/"
        },
        "id": "zjYCkZ_l0pPB",
        "outputId": "44c691be-9d4b-4790-ffe9-0cdc6aeb88f5"
      },
      "outputs": [
        {
          "output_type": "stream",
          "name": "stdout",
          "text": [
            "   ID_x    Brand     Product  ID_y  Quantity_sold\n",
            "0   101    Apple      iPhone   101            234\n",
            "1   102    Canon        DSLR   102            344\n",
            "2   103  Samsung  SmartPhone   104            345\n",
            "3   104    Nikon        DSLR   103            262\n",
            "4   105     Sony     SmartTV   105            356\n"
          ]
        }
      ],
      "source": [
        "# type your code here\n",
        "# First dataframe\n",
        "data1 = {\n",
        "    'ID': [101, 102, 103, 104, 105],\n",
        "    'Brand': ['Apple', 'Canon', 'Samsung', 'Nikon', 'Sony'],\n",
        "    'Product': ['iPhone', 'DSLR', 'SmartPhone', 'DSLR', 'SmartTV']\n",
        "}\n",
        "\n",
        "# Second dataframe\n",
        "data2 = {\n",
        "    'ID': [101, 102, 104, 103, 105],\n",
        "    'Brand': ['Apple', 'Canon', 'Samsung', 'Nikon', 'Sony'],\n",
        "    'Quantity_sold': [234, 344, 345, 262, 356]\n",
        "}\n",
        "\n",
        "# Convert dictionaries to dataframes\n",
        "df1 = pd.DataFrame(data1)\n",
        "df2 = pd.DataFrame(data2)\n",
        "\n",
        "# Merge dataframes on 'Brand' column\n",
        "merged_df = pd.merge(df1, df2, on=['Brand'])\n",
        "\n",
        "print(merged_df)"
      ]
    },
    {
      "cell_type": "markdown",
      "metadata": {
        "id": "4ktHV4Ut0pPJ"
      },
      "source": [
        "<table align=\"left\" width=100%>\n",
        "    <tr>\n",
        "        <td width=\"6%\">\n",
        "            <img src=\"question_icon.png\">\n",
        "        </td>\n",
        "        <td>\n",
        "            <div align=\"left\">\n",
        "                <font color=\"#21618C\" size=4px>\n",
        "                    <b> 10. Using the dataframes created in question 9, merge the given dataframes by 'ID' and 'Brand'\n",
        "                    </b>\n",
        "                </font>\n",
        "            </div>\n",
        "        </td>\n",
        "    </tr>\n",
        "</table>"
      ]
    },
    {
      "cell_type": "code",
      "execution_count": 16,
      "metadata": {
        "colab": {
          "base_uri": "https://localhost:8080/"
        },
        "id": "NJW5ck4a0pPJ",
        "outputId": "589f24db-c2a4-4bed-9670-6a7eaaafd536"
      },
      "outputs": [
        {
          "output_type": "stream",
          "name": "stdout",
          "text": [
            "    ID  Brand  Product  Quantity_sold\n",
            "0  101  Apple   iPhone            234\n",
            "1  102  Canon     DSLR            344\n",
            "2  105   Sony  SmartTV            356\n"
          ]
        }
      ],
      "source": [
        "# type your code here\n",
        "\n",
        "# First dataframe\n",
        "data1 = {\n",
        "    'ID': [101, 102, 103, 104, 105],\n",
        "    'Brand': ['Apple', 'Canon', 'Samsung', 'Nikon', 'Sony'],\n",
        "    'Product': ['iPhone', 'DSLR', 'SmartPhone', 'DSLR', 'SmartTV']\n",
        "}\n",
        "\n",
        "# Second dataframe\n",
        "data2 = {\n",
        "    'ID': [101, 102, 104, 103, 105],\n",
        "    'Brand': ['Apple', 'Canon', 'Samsung', 'Nikon', 'Sony'],\n",
        "    'Quantity_sold': [234, 344, 345, 262, 356]\n",
        "}\n",
        "\n",
        "# Convert dictionaries to dataframes\n",
        "df1 = pd.DataFrame(data1)\n",
        "df2 = pd.DataFrame(data2)\n",
        "\n",
        "# Merge dataframes on 'Brand' column\n",
        "merged_df = pd.merge(df1, df2, on=['Brand','ID'])\n",
        "\n",
        "print(merged_df)"
      ]
    },
    {
      "cell_type": "markdown",
      "metadata": {
        "id": "jz8dY-Nm0pPK"
      },
      "source": [
        "<table align=\"left\" width=100%>\n",
        "    <tr>\n",
        "        <td width=\"6%\">\n",
        "            <img src=\"question_icon.png\">\n",
        "        </td>\n",
        "        <td>\n",
        "            <div align=\"left\">\n",
        "                <font color=\"#21618C\" size=4px>\n",
        "                    <b> 11. Using the dataframes created in question 9, perform left join to combine values in the columns 'Brand' and 'ID'\n",
        "                    </b>\n",
        "                </font>\n",
        "            </div>\n",
        "        </td>\n",
        "    </tr>\n",
        "</table>"
      ]
    },
    {
      "cell_type": "code",
      "execution_count": 19,
      "metadata": {
        "colab": {
          "base_uri": "https://localhost:8080/"
        },
        "id": "bOf2SRh10pPK",
        "outputId": "441f777f-e705-4772-b8b5-a1a3e5b9d268"
      },
      "outputs": [
        {
          "output_type": "stream",
          "name": "stdout",
          "text": [
            "    ID    Brand     Product  Quantity_sold\n",
            "0  101    Apple      iPhone          234.0\n",
            "1  102    Canon        DSLR          344.0\n",
            "2  103  Samsung  SmartPhone            NaN\n",
            "3  104    Nikon        DSLR            NaN\n",
            "4  105     Sony     SmartTV          356.0\n"
          ]
        }
      ],
      "source": [
        "# type your code here\n",
        "merged_df_left = pd.merge(df1, df2, on=['Brand', 'ID'], how='left')\n",
        "print(merged_df_left)"
      ]
    },
    {
      "cell_type": "markdown",
      "metadata": {
        "id": "aPdAVzpZ0pPK"
      },
      "source": [
        "<table align=\"left\" width=100%>\n",
        "    <tr>\n",
        "        <td width=\"6%\">\n",
        "            <img src=\"question_icon.png\">\n",
        "        </td>\n",
        "        <td>\n",
        "            <div align=\"left\">\n",
        "                <font color=\"#21618C\" size=4px>\n",
        "                    <b> 12. Using the dataframes created in question 9, perform outer join to combine values in the columns 'Brand' and 'ID'\n",
        "                    </b>\n",
        "                </font>\n",
        "            </div>\n",
        "        </td>\n",
        "    </tr>\n",
        "</table>"
      ]
    },
    {
      "cell_type": "code",
      "execution_count": 20,
      "metadata": {
        "colab": {
          "base_uri": "https://localhost:8080/"
        },
        "id": "O9Z9imjx0pPK",
        "outputId": "ef54fbd6-0c36-4ae5-da99-447f3dbcfd8f"
      },
      "outputs": [
        {
          "output_type": "stream",
          "name": "stdout",
          "text": [
            "    ID    Brand     Product  Quantity_sold\n",
            "0  101    Apple      iPhone          234.0\n",
            "1  102    Canon        DSLR          344.0\n",
            "2  103  Samsung  SmartPhone            NaN\n",
            "3  104    Nikon        DSLR            NaN\n",
            "4  105     Sony     SmartTV          356.0\n",
            "5  104  Samsung         NaN          345.0\n",
            "6  103    Nikon         NaN          262.0\n"
          ]
        }
      ],
      "source": [
        "# type your code here\n",
        "merged_df_outer = pd.merge(df1, df2, on=['Brand', 'ID'], how='outer')\n",
        "print(merged_df_outer)"
      ]
    },
    {
      "cell_type": "markdown",
      "metadata": {
        "id": "TVdwdty-0pPK"
      },
      "source": [
        "<a id='matplotlib'></a>\n",
        "## 8. Plots using Library Matplotlib"
      ]
    },
    {
      "cell_type": "markdown",
      "metadata": {
        "id": "44i8myLT0pPK"
      },
      "source": [
        "### a. Scatter Plots"
      ]
    },
    {
      "cell_type": "markdown",
      "metadata": {
        "id": "lJN-vF0C0pPK"
      },
      "source": [
        "<table align=\"left\">\n",
        "    <tr>\n",
        "        <td width=\"6%\">\n",
        "            <img src=\"question_icon.png\">\n",
        "        </td>\n",
        "        <td>\n",
        "            <div align=\"left\", style=\"font-size:120%\">\n",
        "                <font color=\"#21618C\">\n",
        "                    <b>13. Create a bubble plot. Further use the parameter 'alpha' to adjust the transparency level. (Generate the data using random number)</b>\n",
        "                </font>\n",
        "            </div>\n",
        "        </td>\n",
        "    </tr>\n",
        "</table>\n",
        "\n",
        "**Note:** A bubble chart is a type of scatter plot that represents three dimensional data. The third variable is represented by the size of a point (marker)."
      ]
    },
    {
      "cell_type": "code",
      "execution_count": 25,
      "metadata": {
        "colab": {
          "base_uri": "https://localhost:8080/",
          "height": 472
        },
        "id": "DR5pjQHw0pPK",
        "outputId": "6b5ce9bb-257b-4c38-85eb-be2d14123f3f"
      },
      "outputs": [
        {
          "output_type": "display_data",
          "data": {
            "text/plain": [
              "<Figure size 640x480 with 1 Axes>"
            ],
            "image/png": "[encoded data removed]"
          },
          "metadata": {}
        }
      ],
      "source": [
        "# type your code here\n",
        "#x and y represent the coordinates of the points.\n",
        "#z represents the size of the bubbles.\n",
        "#alpha parameter controls the transparency level of the bubbles. A value closer to 0 makes the bubbles more transparent, while a value closer to 1 makes them more opaque.\n",
        "#plt.scatter() is used to create the scatter plot, where s parameter determines the size of the bubbles.\n",
        "import matplotlib.pyplot as plt\n",
        "import numpy as np\n",
        "\n",
        "# Generate random data\n",
        "np.random.seed(40)\n",
        "x = np.random.rand(50)\n",
        "y = np.random.rand(50)\n",
        "z = np.random.rand(50) * 1000  # Bubble sizes\n",
        "\n",
        "# Create bubble plot\n",
        "plt.scatter(x, y, s=z, alpha=0.5)\n",
        "\n",
        "plt.xlabel('X-axis')\n",
        "plt.ylabel('Y-axis')\n",
        "plt.title('Bubble Plot')\n",
        "plt.show()"
      ]
    },
    {
      "cell_type": "markdown",
      "metadata": {
        "id": "sjTF5Gec0pPL"
      },
      "source": [
        "### b. Barplots"
      ]
    },
    {
      "cell_type": "markdown",
      "metadata": {
        "id": "9ApPIzC10pPL"
      },
      "source": [
        "<table align=\"left\">\n",
        "    <tr>\n",
        "        <td width=\"6%\">\n",
        "            <img src=\"question_icon.png\">\n",
        "        </td>\n",
        "        <td>\n",
        "            <div align=\"left\", style=\"font-size:120%\">\n",
        "                <font color=\"#21618C\">\n",
        "                    <b> 14. The exports and imports (in billion dollars) is given for a country from 2001 to 2005. Draw a barplot for the data\n",
        "                    </b>\n",
        "                </font>\n",
        "            </div>\n",
        "        </td>\n",
        "    </tr>\n",
        "</table>"
      ]
    },
    {
      "cell_type": "markdown",
      "metadata": {
        "id": "AqDHH9CK0pPL"
      },
      "source": [
        "<table>\n",
        "  <tr>\n",
        "  <th>Year</th>\n",
        "  <th>Import</th>\n",
        "  <th>Export</th>\n",
        "  </tr>\n",
        "  <tr>\n",
        "  <td>2001</td>\n",
        "  <td>54.4</td>\n",
        "  <td>42.5 </td>\n",
        "  </tr>\n",
        "  <tr>\n",
        "  <td>2002</td>\n",
        "  <td>53.8</td>\n",
        "  <td>44.5</td>\n",
        "  </tr>\n",
        "  <tr>\n",
        "  <td>2003</td>\n",
        "  <td>61.6</td>\n",
        "  <td>48.3</td>\n",
        "  </tr>\n",
        "  <tr>\n",
        "  <td>2004</td>\n",
        "  <td>74.15</td>\n",
        "  <td>57.24</td>\n",
        "  </tr>\n",
        "  <tr>\n",
        "  <td>2005</td>\n",
        "  <td>89.33</td>\n",
        "  <td>69.18</td>\n",
        "  </tr>\n",
        "</table>"
      ]
    },
    {
      "cell_type": "code",
      "execution_count": 33,
      "metadata": {
        "colab": {
          "base_uri": "https://localhost:8080/",
          "height": 507
        },
        "id": "cKt5W8Tx0pPL",
        "outputId": "1ce3b3ea-b788-4ac7-805b-9e2a4cece337"
      },
      "outputs": [
        {
          "output_type": "display_data",
          "data": {
            "text/plain": [
              "<Figure size 500x500 with 1 Axes>"
            ],
            "image/png": "[encoded data removed]"
          },
          "metadata": {}
        }
      ],
      "source": [
        "# type your code here\n",
        "# Data\n",
        "years = [2001, 2002, 2003, 2004, 2005]\n",
        "imports = [54.4, 53.8, 61.6, 74.15, 89.33]\n",
        "exports = [42.5, 44.5, 48.3, 57.24, 69.18]\n",
        "\n",
        "# Plotting\n",
        "plt.figure(figsize=(5, 5))\n",
        "plt.bar(years, imports, width=0.4, label='Imports', color='skyblue')\n",
        "plt.bar(years, exports, width=0.4, label='Exports', color='orange', alpha=0.7)\n",
        "\n",
        "# Adding labels and title\n",
        "plt.xlabel('Year')\n",
        "plt.ylabel('Amount (in billion dollars)')\n",
        "plt.title('Imports vs Exports (2001-2005)')\n",
        "plt.xticks(years)\n",
        "plt.legend()\n",
        "\n",
        "# Display plot\n",
        "plt.grid(True, linestyle='-', alpha=0.5)\n",
        "plt.tight_layout()\n",
        "plt.show()"
      ]
    },
    {
      "cell_type": "markdown",
      "metadata": {
        "id": "_lHO7d9x0pPL"
      },
      "source": [
        "### c. Pie plots"
      ]
    },
    {
      "cell_type": "markdown",
      "metadata": {
        "id": "F-ph3_hM0pPL"
      },
      "source": [
        "<table align=\"left\">\n",
        "    <tr>\n",
        "        <td width=\"6%\">\n",
        "            <img src=\"question_icon.png\">\n",
        "        </td>\n",
        "        <td>\n",
        "            <div align=\"left\", style=\"font-size:120%\">\n",
        "                <font color=\"#21618C\">\n",
        "                    <b> 15. Following is the information release after the Indian budget is declared. Plot a donut chart for it\n",
        "                    </b>\n",
        "                </font>\n",
        "            </div>\n",
        "        </td>\n",
        "    </tr>\n",
        "</table>"
      ]
    },
    {
      "cell_type": "markdown",
      "metadata": {
        "id": "GaVWv4XL0pPL"
      },
      "source": [
        "<table>\n",
        "  <tr>\n",
        "  <th>Income Form </th>\n",
        "  <th>Amount (in paise)</th>\n",
        "  </tr>\n",
        "  <tr>\n",
        "  <td>Corporation Tax</td>\n",
        "  <td>21</td>\n",
        "  </tr>\n",
        "  <tr>\n",
        "  <td>Income Tax</td>\n",
        "  <td>16</td>\n",
        "  </tr>\n",
        "  <tr>\n",
        "  <td>Customs</td>\n",
        "  <td>4</td>\n",
        "  </tr>\n",
        "  <tr>\n",
        "  <td>Union Excise Duties</td>\n",
        "  <td>8</td>\n",
        "</tr>\n",
        "  <tr>\n",
        "  <td>GST & Other Taxes</td>\n",
        "  <td>19</td>\n",
        "</tr>\n",
        "<tr>\n",
        "  <td>Non-Tax Revenue</td>\n",
        "  <td>9</td>\n",
        "  </tr>\n",
        "  <tr>\n",
        "  <td>Non-Debt Capital Receipts</td>\n",
        "  <td>3</td>\n",
        "</tr>\n",
        "  <tr>\n",
        "  <td>Borrowings and Other Liabilities</td>\n",
        "  <td>20</td>\n",
        "  </tr>\n",
        "</table>"
      ]
    },
    {
      "cell_type": "code",
      "execution_count": 40,
      "metadata": {
        "colab": {
          "base_uri": "https://localhost:8080/",
          "height": 692
        },
        "id": "iUhnieJY0pPM",
        "outputId": "4e2f6589-c8f4-400c-c015-b5fde675e219"
      },
      "outputs": [
        {
          "output_type": "execute_result",
          "data": {
            "text/plain": [
              "Text(0.5, 1.0, 'Indian Budget Distribution')"
            ]
          },
          "metadata": {},
          "execution_count": 40
        },
        {
          "output_type": "display_data",
          "data": {
            "text/plain": [
              "<Figure size 800x800 with 1 Axes>"
            ],
            "image/png": "[encoded data removed]"
          },
          "metadata": {}
        }
      ],
      "source": [
        "# type your code here\n",
        "# Data\n",
        "categories = ['Corporation Tax', 'Income Tax', 'Customs', 'Union Excise Duties',\n",
        "              'GST & Other Taxes', 'Non-Tax Revenue', 'Non-Debt Capital Receipts',\n",
        "              'Borrowings and Other Liabilities']\n",
        "amounts = [21, 16, 4, 8, 19, 9, 3, 20]\n",
        "\n",
        "# Plotting\n",
        "plt.figure(figsize=(8, 8))\n",
        "plt.pie(amounts, labels=categories, autopct='%1.1f%%', startangle=90, colors=plt.cm.tab10.colors)\n",
        "\n",
        "# Draw a circle at the center of pie to make it look like a donut\n",
        "circle = plt.Circle((0, 0), 0.6, color='white')\n",
        "plt.gca().add_artist(circle)\n",
        "\n",
        "# Adding a title\n",
        "plt.title('Indian Budget Distribution')"
      ]
    },
    {
      "cell_type": "markdown",
      "metadata": {
        "id": "lrmeIBlF0pPM"
      },
      "source": [
        "### d. Line plots"
      ]
    },
    {
      "cell_type": "markdown",
      "metadata": {
        "id": "Q9keIcol0pPM"
      },
      "source": [
        "<table align=\"left\">\n",
        "    <tr>\n",
        "        <td width=\"6%\">\n",
        "            <img src=\"question_icon.png\">\n",
        "        </td>\n",
        "        <td>\n",
        "            <div align=\"left\", style=\"font-size:120%\">\n",
        "                <font color=\"#21618C\">\n",
        "                    <b> 16. Import the 'Returns.csv'. Plot a multiple line plot for the returns of each company\n",
        "                    </b>\n",
        "                </font>\n",
        "            </div>\n",
        "        </td>\n",
        "    </tr>\n",
        "</table>"
      ]
    },
    {
      "cell_type": "code",
      "execution_count": null,
      "metadata": {
        "id": "NeizXR1T0pPM"
      },
      "outputs": [],
      "source": [
        "# type your code here"
      ]
    },
    {
      "cell_type": "markdown",
      "metadata": {
        "id": "oV-gQYza0pPM"
      },
      "source": [
        "<a id='seaborn'></a>\n",
        "## 9. Plots using Library Seaborn"
      ]
    },
    {
      "cell_type": "markdown",
      "metadata": {
        "id": "vsn54GEX0pPM"
      },
      "source": [
        "<table align=\"left\">\n",
        "    <tr>\n",
        "        <td width=\"6%\">\n",
        "            <img src=\"question_icon.png\">\n",
        "        </td>\n",
        "        <td>\n",
        "            <div align=\"left\", style=\"font-size:120%\">\n",
        "                <font color=\"#21618C\">\n",
        "                    <b> 17. Import the dataset age_height.csv. Plot a heat map for the correlation matrix\n",
        "                    </b>\n",
        "                </font>\n",
        "            </div>\n",
        "        </td>\n",
        "    </tr>\n",
        "</table>"
      ]
    },
    {
      "cell_type": "code",
      "execution_count": null,
      "metadata": {
        "id": "DR1wKEPV0pPM"
      },
      "outputs": [],
      "source": [
        "# type your code here"
      ]
    },
    {
      "cell_type": "markdown",
      "metadata": {
        "id": "FlskYyJS0pPM"
      },
      "source": [
        "<table align=\"left\">\n",
        "    <tr>\n",
        "        <td width=\"6%\">\n",
        "            <img src=\"question_icon.png\">\n",
        "        </td>\n",
        "        <td>\n",
        "            <div align=\"left\", style=\"font-size:120%\">\n",
        "                <font color=\"#21618C\">\n",
        "                    <b> 18. Plot a  swarmplot using inbuilt data-set 'iris' given in seaborn\n",
        "                    </b>\n",
        "                </font>\n",
        "            </div>\n",
        "        </td>\n",
        "    </tr>\n",
        "</table>"
      ]
    },
    {
      "cell_type": "code",
      "execution_count": null,
      "metadata": {
        "id": "R4nt9qJ10pPN"
      },
      "outputs": [],
      "source": [
        "# type your code here"
      ]
    },
    {
      "cell_type": "markdown",
      "metadata": {
        "id": "M1IrDmxd0pPN"
      },
      "source": [
        "<table align=\"left\">\n",
        "    <tr>\n",
        "        <td width=\"6%\">\n",
        "            <img src=\"question_icon.png\">\n",
        "        </td>\n",
        "        <td>\n",
        "            <div align=\"left\", style=\"font-size:120%\">\n",
        "                <font color=\"#21618C\">\n",
        "                    <b> 19. Using the 'diamonds' data available in the library seaborn, consider the price for the type of cut. Display the data using the following plots:\n",
        "                        <ol>\n",
        "                            <li> Multiple boxplot</li>\n",
        "                            <li> Violin Plot </li>\n",
        "                            <li> Boxen Plot </li>\n",
        "                        </ol>\n",
        "                    </b>\n",
        "                </font>\n",
        "            </div>\n",
        "        </td>\n",
        "    </tr>\n",
        "</table>"
      ]
    },
    {
      "cell_type": "code",
      "execution_count": null,
      "metadata": {
        "id": "ImI3BB4E0pPN"
      },
      "outputs": [],
      "source": [
        "# type your code here"
      ]
    },
    {
      "cell_type": "markdown",
      "metadata": {
        "id": "KmuWYlkx0pPN"
      },
      "source": [
        "<table align=\"left\">\n",
        "    <tr>\n",
        "        <td width=\"6%\">\n",
        "            <img src=\"question_icon.png\">\n",
        "        </td>\n",
        "        <td>\n",
        "            <div align=\"left\", style=\"font-size:120%\">\n",
        "                <font color=\"#21618C\">\n",
        "                    <b> 20. Generate random number form normal distribution, plot the following:\n",
        "                        <ol>\n",
        "                            <li> Histogram</li>\n",
        "                            <li> Histogram with frequency curve </li>\n",
        "                        </ol>\n",
        "                    </b>\n",
        "                </font>\n",
        "            </div>\n",
        "        </td>\n",
        "    </tr>\n",
        "</table>"
      ]
    },
    {
      "cell_type": "code",
      "execution_count": null,
      "metadata": {
        "id": "YLqBYx5C0pPN"
      },
      "outputs": [],
      "source": [
        "# type your code here"
      ]
    }
  ],
  "metadata": {
    "kernelspec": {
      "display_name": "Python 3",
      "language": "python",
      "name": "python3"
    },
    "language_info": {
      "codemirror_mode": {
        "name": "ipython",
        "version": 3
      },
      "file_extension": ".py",
      "mimetype": "text/x-python",
      "name": "python",
      "nbconvert_exporter": "python",
      "pygments_lexer": "ipython3",
      "version": "3.8.3"
    },
    "colab": {
      "provenance": [],
      "include_colab_link": true
    }
  },
  "nbformat": 4,
  "nbformat_minor": 0
}